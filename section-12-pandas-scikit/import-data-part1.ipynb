{
 "cells": [
  {
   "cell_type": "markdown",
   "id": "6dc617e6",
   "metadata": {},
   "source": []
  },
  {
   "cell_type": "code",
   "execution_count": 9,
   "id": "652e8e89",
   "metadata": {},
   "outputs": [],
   "source": [
    "import pandas as pd\n",
    "\n",
    "df = pd.read_csv(\"data/Loan+Data.csv\")\n",
    "\n",
    "df_tab = pd.read_csv(\"data/Loan+Data+Tab.txt\", sep='\\t')\n",
    "\n",
    "columns = [\"age\",\"workclass\",\"fnlwgt\",\"education\",\"education-num\",\n",
    "           \"marital-status\",\"occupation\",\"relationship\",\"race\",\"sex\",\n",
    "           \"capital-gain\",\"capital-loss\",\"hours-per-week\",\"native-country\",\"income\"]\n",
    "\n",
    "df_h = pd.read_csv(\"data/adult.data\",header=None,names=columns)\n",
    "\n",
    "\n"
   ]
  }
 ],
 "metadata": {
  "kernelspec": {
   "display_name": ".env",
   "language": "python",
   "name": "python3"
  },
  "language_info": {
   "codemirror_mode": {
    "name": "ipython",
    "version": 3
   },
   "file_extension": ".py",
   "mimetype": "text/x-python",
   "name": "python",
   "nbconvert_exporter": "python",
   "pygments_lexer": "ipython3",
   "version": "3.13.5"
  }
 },
 "nbformat": 4,
 "nbformat_minor": 5
}

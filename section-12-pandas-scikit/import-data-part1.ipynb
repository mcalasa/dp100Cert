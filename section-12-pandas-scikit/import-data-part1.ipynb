{
 "cells": [
  {
   "cell_type": "markdown",
   "id": "3d98c9c8",
   "metadata": {},
   "source": [
    "Use pandas library"
   ]
  },
  {
   "cell_type": "code",
   "execution_count": null,
   "id": "652e8e89",
   "metadata": {},
   "outputs": [],
   "source": [
    "import pandas as pd"
   ]
  },
  {
   "cell_type": "markdown",
   "id": "56c5f3e8",
   "metadata": {},
   "source": [
    "Read from csv file"
   ]
  },
  {
   "cell_type": "code",
   "execution_count": 5,
   "id": "6cb43d91",
   "metadata": {},
   "outputs": [],
   "source": [
    "df = pd.read_csv(\"data/Loan+Data.csv\")"
   ]
  },
  {
   "cell_type": "markdown",
   "id": "5fdf147d",
   "metadata": {},
   "source": [
    "Read from tab delimited file"
   ]
  },
  {
   "cell_type": "code",
   "execution_count": null,
   "id": "eacab566",
   "metadata": {},
   "outputs": [],
   "source": [
    "df_tab = pd.read_csv(\"data/Loan+Data+Tab.txt\", sep='\\t')"
   ]
  },
  {
   "cell_type": "markdown",
   "id": "5b6fcac1",
   "metadata": {},
   "source": [
    "Read from a file with no headers"
   ]
  },
  {
   "cell_type": "code",
   "execution_count": null,
   "id": "42e919ae",
   "metadata": {},
   "outputs": [],
   "source": [
    "df_h = pd.read_csv(\"data/adult.data\",header=None)"
   ]
  },
  {
   "cell_type": "markdown",
   "id": "ed63cae9",
   "metadata": {},
   "source": [
    "Add headers"
   ]
  },
  {
   "cell_type": "code",
   "execution_count": null,
   "id": "eb7ede98",
   "metadata": {},
   "outputs": [],
   "source": [
    "columns = [\"age\",\"workclass\",\"fnlwgt\",\"education\",\"education-num\",\n",
    "           \"marital-status\",\"occupation\",\"relationship\",\"race\",\"sex\",\n",
    "           \"capital-gain\",\"capital-loss\",\"hours-per-week\",\"native-country\",\"income\"]\n",
    "\n",
    "df_h_names = pd.read_csv(\"data/adult.data\",header=None,names=columns)\n",
    "\n"
   ]
  }
 ],
 "metadata": {
  "kernelspec": {
   "display_name": ".env",
   "language": "python",
   "name": "python3"
  },
  "language_info": {
   "codemirror_mode": {
    "name": "ipython",
    "version": 3
   },
   "file_extension": ".py",
   "mimetype": "text/x-python",
   "name": "python",
   "nbconvert_exporter": "python",
   "pygments_lexer": "ipython3",
   "version": "3.13.5"
  }
 },
 "nbformat": 4,
 "nbformat_minor": 5
}
